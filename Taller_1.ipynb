{
  "nbformat": 4,
  "nbformat_minor": 0,
  "metadata": {
    "colab": {
      "provenance": []
    },
    "kernelspec": {
      "name": "python3",
      "display_name": "Python 3"
    },
    "language_info": {
      "name": "python"
    }
  },
  "cells": [
    {
      "cell_type": "markdown",
      "source": [
        "# clase Machine learning\n",
        "##Taller 1\n",
        "\n"
      ],
      "metadata": {
        "id": "l5JFNoS_cz2J"
      }
    },
    {
      "cell_type": "code",
      "source": [
        "def suma_div(a:int, b:int, c:int):\n",
        "  if type(a) == int and type(b) == int and type(c) == int:\n",
        "    suma = a + b\n",
        "    if c==0:\n",
        "      print(f\"el numero{c}no puede ser 0\")\n",
        "    else:\n",
        "      div = suma / c\n",
        "      print(div)\n",
        "  else:\n",
        "    print(f\"los datos ingresados deben ser enteros\")\n",
        ""
      ],
      "metadata": {
        "id": "wC7-r1hy1Rj5"
      },
      "execution_count": 30,
      "outputs": []
    },
    {
      "cell_type": "code",
      "source": [
        "suma_div(\"a\",5,6)"
      ],
      "metadata": {
        "colab": {
          "base_uri": "https://localhost:8080/"
        },
        "id": "9YhptMhX1t8B",
        "outputId": "d366cab6-2900-43d8-fd30-4126afc22af9"
      },
      "execution_count": 33,
      "outputs": [
        {
          "output_type": "stream",
          "name": "stdout",
          "text": [
            "los datos ingresados deben ser enteros\n"
          ]
        }
      ]
    }
  ]
}